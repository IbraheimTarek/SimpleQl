{
 "cells": [
  {
   "cell_type": "code",
   "execution_count": 276,
   "id": "0c21538a",
   "metadata": {},
   "outputs": [],
   "source": [
    "import spacy\n",
    "from keybert import KeyBERT\n",
    "from tqdm import tqdm\n",
    "from fuzzywuzzy import fuzz\n",
    "from sentence_transformers import SentenceTransformer, util\n",
    "from spacy.lang.en.stop_words import STOP_WORDS as SPACY_STOPWORDS\n",
    "from transformers import pipeline"
   ]
  },
  {
   "cell_type": "code",
   "execution_count": 92,
   "id": "4820f8d6",
   "metadata": {},
   "outputs": [],
   "source": [
    "# Load models\n",
    "kw_model = KeyBERT()\n",
    "nlp = spacy.load(\"en_core_web_sm\")"
   ]
  },
  {
   "cell_type": "code",
   "execution_count": 50,
   "id": "46b0df43",
   "metadata": {},
   "outputs": [
    {
     "name": "stdout",
     "output_type": "stream",
     "text": [
      "fastest lap time - 0.7019\n",
      "race lewis hamilton - 0.7004\n",
      "fastest lap - 0.6697\n",
      "time race lewis - 0.6250\n",
      "race lewis - 0.6199\n",
      "lap time race - 0.6061\n",
      "lewis hamilton - 0.5742\n",
      "hamilton - 0.5130\n",
      "fastest - 0.5087\n",
      "lap time - 0.4686\n"
     ]
    }
   ],
   "source": [
    "# Input text (e.g., a natural language question)\n",
    "question = \"What is the fastest lap time ever in a race for Lewis Hamilton?\"\n",
    "\n",
    "# Extract keywords (phrases up to 3 words long)\n",
    "keywords = kw_model.extract_keywords(\n",
    "    question,\n",
    "    keyphrase_ngram_range=(1, 3),\n",
    "    stop_words='english',  # Removes common stopwords\n",
    "    top_n=10                 # Number of keywords to return\n",
    ")\n",
    "\n",
    "# Print results\n",
    "for keyword, score in keywords:\n",
    "    print(f\"{keyword} - {score:.4f}\")\n"
   ]
  },
  {
   "cell_type": "code",
   "execution_count": null,
   "id": "5783b904",
   "metadata": {},
   "outputs": [],
   "source": [
    "def dependency_keywords(text: str): \n",
    "    doc = nlp(text)\n",
    "    # Remove stop words\n",
    "    doc = [token for token in doc if not token.is_stop and not token.is_punct]\n",
    "    keywords = set()\n",
    "\n",
    "    for token in doc:\n",
    "        # Look for a noun with modifiers\n",
    "        if token.pos_ in {\"NOUN\", \"PROPN\"}:\n",
    "            modifiers = [\n",
    "                child for child in token.lefts\n",
    "                if child.dep_ in {\"amod\", \"compound\"} \n",
    "            ]\n",
    "            if modifiers:\n",
    "                phrase = \" \".join([t.text for t in [*modifiers, token]])\n",
    "                keywords.add(phrase)\n",
    "        keywords.add(token.text)\n",
    "    # print(f\"\\tCandidates: {keywords}\")\n",
    "    return list(keywords)"
   ]
  },
  {
   "cell_type": "code",
   "execution_count": 74,
   "id": "4d0b6c6a",
   "metadata": {},
   "outputs": [
    {
     "name": "stdout",
     "output_type": "stream",
     "text": [
      "\tCandidates: {'fastest', 'race', 'Hamilton', 'time', 'Lewis', 'fastest lap time', 'Lewis Hamilton', 'lap'}\n",
      "['fastest', 'race', 'Hamilton', 'time', 'Lewis', 'fastest lap time', 'Lewis Hamilton', 'lap']\n"
     ]
    }
   ],
   "source": [
    "text = \"What is the fastest lap time ever in a race for Lewis Hamilton?\"\n",
    "candidates = dependency_keywords(text)\n",
    "print(candidates)"
   ]
  },
  {
   "cell_type": "code",
   "execution_count": null,
   "id": "7d780209",
   "metadata": {},
   "outputs": [],
   "source": [
    "def keybert_keywords(question, candidates, top_n=5):\n",
    "    candidates = [phrase.lower() for phrase in candidates]\n",
    "    keywords = kw_model.extract_keywords(\n",
    "        question,\n",
    "        stop_words=\"english\",\n",
    "        candidates=candidates,\n",
    "        keyphrase_ngram_range=(1, 3),\n",
    "        top_n=top_n                 # Number of keywords to return\n",
    "    )\n",
    "    return keywords"
   ]
  },
  {
   "cell_type": "code",
   "execution_count": 94,
   "id": "704f2a06",
   "metadata": {},
   "outputs": [
    {
     "name": "stdout",
     "output_type": "stream",
     "text": [
      "[('fastest lap time', 0.7019), ('lewis hamilton', 0.5742), ('hamilton', 0.513), ('fastest', 0.5087), ('lewis', 0.4565)]\n"
     ]
    }
   ],
   "source": [
    "print(keybert_keywords(question, candidates))"
   ]
  },
  {
   "cell_type": "code",
   "execution_count": 184,
   "id": "9583dc1f",
   "metadata": {},
   "outputs": [],
   "source": [
    "def extract_keywords(question, top_n=5):\n",
    "    candidates = dependency_keywords(question)\n",
    "    keywords = keybert_keywords(question,candidates, top_n=top_n)\n",
    "    return keywords"
   ]
  },
  {
   "cell_type": "code",
   "execution_count": 162,
   "id": "f1cfd2bd",
   "metadata": {},
   "outputs": [
    {
     "name": "stdout",
     "output_type": "stream",
     "text": [
      "[('fastest lap time', 0.7019), ('lewis hamilton', 0.5742), ('hamilton', 0.513), ('fastest', 0.5087), ('lewis', 0.4565)]\n"
     ]
    }
   ],
   "source": [
    "question = \"What is the fastest lap time ever in a race for Lewis Hamilton?\"\n",
    "print(extract_keywords(question))"
   ]
  },
  {
   "cell_type": "code",
   "execution_count": null,
   "id": "62ad22c7",
   "metadata": {},
   "outputs": [],
   "source": [
    "file_path = \"D:/University/4th year/2nd Semester/GP/playground/squall playground/test.txt\"\n",
    "with open(file_path, \"r\", encoding=\"utf-8\") as file:\n",
    "    total_lines = sum(1 for _ in file)\n",
    "with open(file_path, \"r\", encoding=\"utf-8\") as file:\n",
    "    for index, line in tqdm(enumerate(file), desc=\"Processing questions...\", total=total_lines):\n",
    "        if index % 3 == 0:\n",
    "            # print(f\"Line {index}\")\n",
    "            # print(f\"\\t{line}\")\n",
    "            keywords = extract_keywords(line.strip())\n",
    "            # print(f\"\\t{keywords}\")"
   ]
  },
  {
   "cell_type": "code",
   "execution_count": 101,
   "id": "82e9d9a0",
   "metadata": {},
   "outputs": [],
   "source": [
    "# Load spaCy and SBERT model\n",
    "nlp = spacy.load(\"en_core_web_sm\")\n",
    "model = SentenceTransformer(\"all-MiniLM-L6-v2\")"
   ]
  },
  {
   "cell_type": "code",
   "execution_count": null,
   "id": "baffc49b",
   "metadata": {},
   "outputs": [],
   "source": [
    "def clean_tokens(text):\n",
    "    \"\"\"Remove stop words and punctuation.\"\"\"\n",
    "    keep_words = {\"name\", \"amount\", \"show\", \"mine\", \"side\", \"keep\", \"full\", \"see\", \"various\", \"former\", \"bottom\", \"call\", \"next\"}  \n",
    "    custom_stopwords = SPACY_STOPWORDS.difference(keep_words)\n",
    "    doc = nlp(text)\n",
    "    return [token.text for token in doc if token.text.lower() not in custom_stopwords and not token.is_punct]\n",
    "\n",
    "def fuzzy_match_phrases(question, schema, threshold=70):\n",
    "    \"\"\"Fuzzy match question's token phrases to names.\"\"\"\n",
    "    tokens = clean_tokens(question)\n",
    "    print(f\"After removing stop words: {tokens}\")\n",
    "    matches = []\n",
    "    for token in tokens:\n",
    "        for table in schema:\n",
    "            for (column, _) in schema[table]:\n",
    "                score = fuzz.partial_ratio(token.lower(), column.lower())\n",
    "                if score >= threshold:\n",
    "                    matches.append((token, column, score))\n",
    "    return matches"
   ]
  },
  {
   "cell_type": "code",
   "execution_count": 294,
   "id": "1043a1ff",
   "metadata": {},
   "outputs": [
    {
     "name": "stdout",
     "output_type": "stream",
     "text": [
      "After removing stop words: ['average', 'number', 'Mubi', 'users', 'love', 'movies', 'directed', 'Stanley', 'Kubrick']\n",
      "[('number', 'list_movie_number', 100), ('users', 'user_id', 80), ('users', 'user_id', 80), ('users', 'user_trialist', 80), ('users', 'user_subscriber', 80), ('users', 'user_avatar_image_url', 80), ('users', 'user_cover_image_url', 80), ('users', 'user_eligible_for_trial', 80), ('users', 'user_has_payment_method', 80), ('users', 'user_id', 80), ('users', 'user_trialist', 80), ('users', 'user_subscriber', 80), ('users', 'user_eligible_for_trial', 80), ('users', 'user_has_payment_method', 80), ('users', 'user_id', 80), ('users', 'user_trialist', 80), ('users', 'user_subscriber', 80), ('users', 'user_avatar_image_url', 80), ('users', 'user_cover_image_url', 80), ('users', 'user_eligible_for_trial', 80), ('users', 'user_has_payment_method', 80), ('movies', 'list_movie_number', 83), ('movies', 'movie_id', 83), ('movies', 'movie_title', 83), ('movies', 'movie_release_year', 83), ('movies', 'movie_url', 83), ('movies', 'movie_title_language', 83), ('movies', 'movie_popularity', 83), ('movies', 'movie_image_url', 83), ('movies', 'movie_id', 83)]\n"
     ]
    }
   ],
   "source": [
    "question = \"What is the average number of Mubi users who love movies directed by Stanley Kubrick?\"\n",
    "schema = {\n",
    "    \"lists\": [\n",
    "              (\"user_id\", \"ID related to the user who created the list.\"), \n",
    "              (\"list_id\", \"ID of the list on Mubi\"),\n",
    "              (\"list_title\", \"Name of the list\"),\n",
    "              (\"list_movie_number\", \"Number of movies added to the list\"),\n",
    "              (\"list_update_timestamp_utc\", \"Last update timestamp for the list\"),\n",
    "              (\"list_creation_timestamp_utc\", \"Creation timestamp for the list\"),\n",
    "              (\"list_followers\", \"Number of followers on the list\"),\n",
    "              (\"list_url\", \"URL to the list page on Mubi\"),\n",
    "              (\"list_comments\", \"Number of comments on the list\"),\n",
    "              (\"list_description\", \"List description made by the user\"),\n",
    "              (\"list_cover_image_url\", \"\"),\n",
    "              (\"list_first_image_url\", \"\"),\n",
    "              (\"list_second_image_url\", \"\"),\n",
    "              (\"list_third_image_url\", \"\")\n",
    "            ],\n",
    "\n",
    "    \"lists_users\": [\n",
    "              (\"user_id\", \"ID related to the user who created the list.\"),\n",
    "              (\"list_id\", \"ID of the list on Mubi\"),\n",
    "              (\"list_update_date_utc\", \"Last update date for the list\"),\n",
    "              (\"list_create_date_utc\", \"Creation date for the list\"),\n",
    "              (\"user_trialist\", \"whether the user was a tralist when he created the list \"),\n",
    "              (\"user_subscriber\",\"whether the user was a subscriber when he created the list \"),\n",
    "              (\"user_avatar_image_url\", \"User profile image URL on Mubi\"),\n",
    "              (\"user_cover_image_url\", \"User profile cover image URL on Mubi\"),\n",
    "              (\"user_eligible_for_trial\", \"whether the user was eligible for trial when he created the list \"),\n",
    "              (\"user_has_payment_method\", \"whether the user was a paying subscriber when he created the list \")\n",
    "            ],\n",
    "\n",
    "    \"movies\": [\n",
    "              (\"movie_id\", \"ID related to the movie on Mubi\"),\n",
    "              (\"movie_title\", \"Name of the movie\"),\n",
    "              (\"movie_release_year\", \"Release year of the movie\"),\n",
    "              (\"movie_url\", \"URL to the movie page on Mubi\"),\n",
    "              (\"movie_title_language\", \"By default, the title is in English.\"),\n",
    "              (\"movie_popularity\",\"Number of Mubi users who love this movie\"),\n",
    "              (\"movie_image_url\", \"Image URL to the movie on Mubi\"),\n",
    "              (\"director_id\", \"ID related to the movie director on Mubi\"),\n",
    "              (\"director_name\", \"Full Name of the movie director\"),\n",
    "              (\"director_url\",\"URL to the movie director page on Mubi\")\n",
    "            ],\n",
    "\n",
    "    \"ratings\": [\n",
    "              (\"movie_id\", \"Movie ID related to the rating\"),\n",
    "              (\"rating_id\", \"Rating ID on Mubi\"),\n",
    "              (\"rating_url\", \"URL to the rating on Mubi\"),\n",
    "              (\"rating_score\", \"Rating score ranging from 1 (lowest) to 5 (highest)\"),\n",
    "              (\"rating_timestamp_utc\", \"Timestamp for the movie rating made by the user on Mubi\"),\n",
    "              (\"critic\", \"Critic made by the user rating the movie. \"),\n",
    "              (\"critic_likes\", \"Number of likes related to the critic made by the user rating the movie\"),\n",
    "              (\"critic_comments\", \"Number of comments related to the critic made by the user rating the movie\"),\n",
    "              (\"user_id\", \"ID related to the user rating the movie\"),\n",
    "              (\"user_trialist\", \"whether user was a tralist when he rated the movie\"),\n",
    "              (\"user_subscriber\", \"\"),\n",
    "              (\"user_eligible_for_trial\", \"\"),\n",
    "              (\"user_has_payment_method\",\"\")\n",
    "            ],\n",
    "\n",
    "    \"ratings_users\": [\n",
    "              (\"user_id\", \"ID related to the user rating the movie\"),\n",
    "              (\"rating_date_utc\", \"Rating date for the movie rating.\"),\n",
    "              (\"user_trialist\", \"whether the user was a trialist when he rated the movie\"),\n",
    "              (\"user_subscriber\", \"whether the user was a subscriber when he rated the movie\"),\n",
    "              (\"user_avatar_image_url\", \"URL to the user profile image on Mubi\"),\n",
    "              (\"user_cover_image_url\",\"URL to the user profile cover image on Mubi\"),\n",
    "              (\"user_eligible_for_trial\", \"whether the user was eligible for trial when he rated the movie\"),\n",
    "              (\"user_has_payment_method\", \"whether the user was a paying subscriber when he rated the movie\")\n",
    "            ]\n",
    "}\n",
    "\n",
    "print(fuzzy_match_phrases(question, schema, threshold=80))"
   ]
  },
  {
   "cell_type": "code",
   "execution_count": 291,
   "id": "cb636282",
   "metadata": {},
   "outputs": [],
   "source": [
    "def semantic_similarity(question, schema, threshold=0.4):\n",
    "    \"\"\"Compute semantic similarity between keywords and column descriptions.\"\"\"\n",
    "    question_vec = model.encode(question, convert_to_tensor=True)\n",
    "    similarities = []\n",
    "    for table in schema:\n",
    "        for (col, desc) in schema[table]:\n",
    "            score = 0\n",
    "            if desc != \"\":\n",
    "                desc_vec = model.encode(desc, convert_to_tensor=True)\n",
    "                score = util.cos_sim(question_vec, desc_vec).item()\n",
    "            else:\n",
    "                col_vec = model.encode(col, convert_to_tensor=True)\n",
    "                score = util.cos_sim(question_vec, col_vec).item()\n",
    "            if score >= threshold:\n",
    "                similarities.append((table, col, score, desc))\n",
    "\n",
    "    return similarities"
   ]
  },
  {
   "cell_type": "code",
   "execution_count": 295,
   "id": "3c91e855",
   "metadata": {},
   "outputs": [
    {
     "name": "stdout",
     "output_type": "stream",
     "text": [
      "55\n",
      "What is the average number of Mubi users who love movies directed by Stanley Kubrick?\n",
      "['stanley kubrick', 'kubrick', 'mubi users', 'movies', 'mubi', 'average', 'average number', 'directed', 'number', 'stanley']\n",
      "21\n"
     ]
    },
    {
     "data": {
      "text/plain": [
       "[('lists',\n",
       "  'list_movie_number',\n",
       "  0.5628187656402588,\n",
       "  'Number of movies added to the list'),\n",
       " ('movies', 'movie_id', 0.500049889087677, 'ID related to the movie on Mubi'),\n",
       " ('movies', 'movie_url', 0.407701313495636, 'URL to the movie page on Mubi'),\n",
       " ('movies',\n",
       "  'movie_popularity',\n",
       "  0.7626645565032959,\n",
       "  'Number of Mubi users who love this movie'),\n",
       " ('movies',\n",
       "  'director_id',\n",
       "  0.5063318610191345,\n",
       "  'ID related to the movie director on Mubi'),\n",
       " ('movies',\n",
       "  'director_name',\n",
       "  0.40639087557792664,\n",
       "  'Full Name of the movie director'),\n",
       " ('movies',\n",
       "  'director_url',\n",
       "  0.4220734238624573,\n",
       "  'URL to the movie director page on Mubi'),\n",
       " ('ratings', 'movie_id', 0.4636894464492798, 'Movie ID related to the rating'),\n",
       " ('ratings', 'rating_id', 0.44096750020980835, 'Rating ID on Mubi'),\n",
       " ('ratings', 'rating_url', 0.42876583337783813, 'URL to the rating on Mubi'),\n",
       " ('ratings',\n",
       "  'rating_timestamp_utc',\n",
       "  0.5265337824821472,\n",
       "  'Timestamp for the movie rating made by the user on Mubi'),\n",
       " ('ratings',\n",
       "  'critic',\n",
       "  0.4454594850540161,\n",
       "  'Critic made by the user rating the movie. '),\n",
       " ('ratings',\n",
       "  'critic_likes',\n",
       "  0.5555188059806824,\n",
       "  'Number of likes related to the critic made by the user rating the movie'),\n",
       " ('ratings',\n",
       "  'critic_comments',\n",
       "  0.4844059944152832,\n",
       "  'Number of comments related to the critic made by the user rating the movie'),\n",
       " ('ratings',\n",
       "  'user_id',\n",
       "  0.47094112634658813,\n",
       "  'ID related to the user rating the movie'),\n",
       " ('ratings',\n",
       "  'user_trialist',\n",
       "  0.4526398479938507,\n",
       "  'whether user was a tralist when he rated the movie'),\n",
       " ('ratings_users',\n",
       "  'user_id',\n",
       "  0.47094112634658813,\n",
       "  'ID related to the user rating the movie'),\n",
       " ('ratings_users',\n",
       "  'rating_date_utc',\n",
       "  0.487303227186203,\n",
       "  'Rating date for the movie rating.'),\n",
       " ('ratings_users',\n",
       "  'user_trialist',\n",
       "  0.4431806206703186,\n",
       "  'whether the user was a trialist when he rated the movie'),\n",
       " ('ratings_users',\n",
       "  'user_subscriber',\n",
       "  0.49226024746894836,\n",
       "  'whether the user was a subscriber when he rated the movie'),\n",
       " ('ratings_users',\n",
       "  'user_has_payment_method',\n",
       "  0.4634326696395874,\n",
       "  'whether the user was a paying subscriber when he rated the movie')]"
      ]
     },
     "execution_count": 295,
     "metadata": {},
     "output_type": "execute_result"
    }
   ],
   "source": [
    "total = 0\n",
    "for table in schema:\n",
    "    for col in schema[table]:\n",
    "        total += 1\n",
    "print(total)\n",
    "keywords = extract_keywords(question, top_n=10)\n",
    "keywords = [keyword[0] for keyword in keywords]\n",
    "print(question)\n",
    "print(keywords)\n",
    "result = semantic_similarity(question, schema, threshold=0.4)\n",
    "print(len(result))\n",
    "result"
   ]
  },
  {
   "cell_type": "code",
   "execution_count": 253,
   "id": "5b0636bf",
   "metadata": {},
   "outputs": [
    {
     "name": "stdout",
     "output_type": "stream",
     "text": [
      "0.4826233983039856\n"
     ]
    }
   ],
   "source": [
    "kw_vec = model.encode(\"who is the driver\", convert_to_tensor=True)\n",
    "col_vec = model.encode(\"racer\",  convert_to_tensor=True)\n",
    "score = util.cos_sim(kw_vec, col_vec).item()\n",
    "print(score)"
   ]
  },
  {
   "cell_type": "code",
   "execution_count": 289,
   "id": "428edf85",
   "metadata": {},
   "outputs": [
    {
     "name": "stdout",
     "output_type": "stream",
     "text": [
      "'Welcome WORK_OF_ART\n",
      "Dollhouse ORG\n"
     ]
    }
   ],
   "source": [
    "doc = nlp(\"For movie titled 'Welcome to the Dollhouse', how many percentage of the ratings were rated with highest score\")\n",
    "\n",
    "for ent in doc.ents:\n",
    "    print(ent.text, ent.label_)"
   ]
  },
  {
   "cell_type": "code",
   "execution_count": 296,
   "id": "a1c0da58",
   "metadata": {},
   "outputs": [
    {
     "name": "stdout",
     "output_type": "stream",
     "text": [
      "False\n"
     ]
    }
   ],
   "source": [
    "print('critic' in SPACY_STOPWORDS)"
   ]
  },
  {
   "cell_type": "code",
   "execution_count": null,
   "id": "e2aeeaf0",
   "metadata": {},
   "outputs": [],
   "source": []
  }
 ],
 "metadata": {
  "kernelspec": {
   "display_name": "Python 3",
   "language": "python",
   "name": "python3"
  },
  "language_info": {
   "codemirror_mode": {
    "name": "ipython",
    "version": 3
   },
   "file_extension": ".py",
   "mimetype": "text/x-python",
   "name": "python",
   "nbconvert_exporter": "python",
   "pygments_lexer": "ipython3",
   "version": "3.10.11"
  }
 },
 "nbformat": 4,
 "nbformat_minor": 5
}
