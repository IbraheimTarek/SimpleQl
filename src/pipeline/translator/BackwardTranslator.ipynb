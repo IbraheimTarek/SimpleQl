{
 "cells": [
  {
   "cell_type": "code",
   "execution_count": 1,
   "id": "a79941c7",
   "metadata": {},
   "outputs": [],
   "source": [
    "import requests\n",
    "import pandas as pd\n",
    "import time\n",
    "import json"
   ]
  },
  {
   "cell_type": "code",
   "execution_count": 60,
   "id": "687e7561",
   "metadata": {},
   "outputs": [],
   "source": [
    "# using mymemory to generate the Arabic Training Data\n",
    "def translate(text):\n",
    "        \n",
    "        url = \"https://api.mymemory.translated.net/get\"\n",
    "        params = {\n",
    "            \"q\": text,\n",
    "            \"langpair\": \"en|ar\",\n",
    "            \"key\": \"43a221557ce746042181\",\n",
    "            \"de\": \"abdohefney1@gmail.com\"\n",
    "        }\n",
    "        \n",
    "        response = requests.get(url, params=params)\n",
    "        response.raise_for_status()\n",
    "        data = response.json()\n",
    "        \n",
    "        if data.get(\"responseStatus\") != 200:\n",
    "            raise Exception(f\"MyMemory error: {data.get('responseDetails', 'Unknown error')}\")\n",
    "        \n",
    "        return data[\"responseData\"][\"translatedText\"]\n",
    "\n",
    "def translate_google(text):\n",
    "        \"\"\"Translate using Google Translate\"\"\"\n",
    "        url = \"https://translate.googleapis.com/translate_a/single\"\n",
    "        params = {\n",
    "            \"client\": \"gtx\",\n",
    "            \"sl\": \"en\",\n",
    "            \"tl\": \"ar\",\n",
    "            \"dt\": \"t\",\n",
    "            \"q\": text\n",
    "        }\n",
    "        \n",
    "        response = requests.get(url, params=params)\n",
    "        response.raise_for_status()\n",
    "        \n",
    "        # Parse the JSON response\n",
    "        data = json.loads(response.text)\n",
    "        if not data or not data[0]:\n",
    "            raise Exception(\"No translation returned from Google\")\n",
    "        \n",
    "        # Extract translation from nested JSON\n",
    "        translation_parts = [part[0] for part in data[0] if part[0]]\n",
    "        return \"\".join(translation_parts)\n"
   ]
  },
  {
   "cell_type": "code",
   "execution_count": 67,
   "id": "6de5eb1e",
   "metadata": {},
   "outputs": [],
   "source": [
    "data = pd.read_csv(\"./translated_data.csv\")\n",
    "not_translated = data[data[\"arabic_instruction\"].isna()]\n",
    "not_translated.reset_index(inplace=True)"
   ]
  },
  {
   "cell_type": "code",
   "execution_count": 114,
   "id": "c152997a",
   "metadata": {},
   "outputs": [],
   "source": [
    "data = pd.read_json(\"C:\\\\Users\\\\abdo_\\\\Downloads\\\\Translation_dataset\\\\test.json\")\n",
    "data = data[\"question\"]\n",
    "arabic = pd.Series([\"\"]*data.shape[0])\n",
    "\n",
    "data = pd.concat([arabic,data],axis=1).rename(columns={0:\"arabic_instruction\",\"question\":\"instruction\"})"
   ]
  },
  {
   "cell_type": "code",
   "execution_count": 115,
   "id": "78ba811e",
   "metadata": {},
   "outputs": [],
   "source": [
    "# Translate it\n",
    "# This bad implementation because i will get rate limited if i used \n",
    "# the SpiderData.map(translate)\n",
    "for i in range(data.shape[0]):\n",
    "    try:\n",
    "        data.loc[i,\"arabic_instruction\"] = translate_google(data.loc[i,\"instruction\"])\n",
    "    except:\n",
    "        print(\"error occured\")\n",
    "        break"
   ]
  },
  {
   "cell_type": "code",
   "execution_count": 116,
   "id": "1540acf8",
   "metadata": {},
   "outputs": [],
   "source": [
    "data.to_csv(\"./test_data.csv\",index=False,header=True,encoding=\"utf-8\")"
   ]
  }
 ],
 "metadata": {
  "kernelspec": {
   "display_name": ".venv",
   "language": "python",
   "name": "python3"
  },
  "language_info": {
   "codemirror_mode": {
    "name": "ipython",
    "version": 3
   },
   "file_extension": ".py",
   "mimetype": "text/x-python",
   "name": "python",
   "nbconvert_exporter": "python",
   "pygments_lexer": "ipython3",
   "version": "3.12.0"
  }
 },
 "nbformat": 4,
 "nbformat_minor": 5
}
