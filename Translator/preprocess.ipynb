{
 "cells": [
  {
   "cell_type": "code",
   "execution_count": null,
   "id": "8b6197ec",
   "metadata": {},
   "outputs": [],
   "source": [
    "import pandas as pd \n",
    "from collections import Counter\n",
    "from nltk.tokenize import word_tokenize\n",
    "from farasa.segmenter import FarasaSegmenter\n",
    "from farasa.stemmer import FarasaStemmer\n",
    "from farasa.pos import FarasaPOSTagger \n",
    "from multiprocessing import Pool, cpu_count\n",
    "import pandas as pd\n",
    "from tqdm import tqdm\n",
    "\n",
    "tqdm.monitor_interval = 0  # avoid warning\n",
    "\n",
    "\n",
    "import json\n"
   ]
  },
  {
   "cell_type": "code",
   "execution_count": null,
   "id": "eb66e0e6",
   "metadata": {},
   "outputs": [],
   "source": [
    "# What should the preprocessor do ?\n",
    "# 1 - English tokens in the Arabic text and the numbers doesn't need to get translated -> mark special token\n",
    "# that the model needs to learn where will be the output position \n",
    "# 2 - Normalize string formats : \"ي\\ى\"... \n",
    "# 3 - Tokenize the input tokens"
   ]
  },
  {
   "cell_type": "code",
   "execution_count": null,
   "id": "02cd7112",
   "metadata": {},
   "outputs": [],
   "source": [
    "# read data\n",
    "train_data = pd.read_csv(\"train_data.csv\")\n",
    "train_sequences = pd.read_pickle(\"./postaggedtrain.pkl\")\n",
    "\n",
    "val_data = pd.read_csv(\"val_data.csv\")\n",
    "val_sequences = pd.read_pickle(\"./postaggedval.pkl\")\n",
    "\n",
    "test_data = pd.read_csv(\"test_data.csv\")\n",
    "test_sequences = pd.read_pickle(\"./postaggedtest.pkl\")"
   ]
  },
  {
   "cell_type": "markdown",
   "id": "70301bbe",
   "metadata": {},
   "source": [
    "# Arabic Preprocessing"
   ]
  },
  {
   "cell_type": "code",
   "execution_count": 6,
   "id": "3c6408b4",
   "metadata": {},
   "outputs": [],
   "source": [
    "def new_arabic_preprocessing(data,sequences):\n",
    "\n",
    "    data[\"processed_arabic_instruction\"] = sequences.apply(lambda x: [\"<s>\"]+[y.tokens[0] for y in x]+[\"</s>\"])\n",
    "\n",
    "    data[\"pos_tag\"] = sequences.apply(lambda x: [\"<s>\"]+[y.tags[0] for y in x]+[\"</s>\"])\n",
    "    \n",
    "    return data"
   ]
  },
  {
   "cell_type": "code",
   "execution_count": null,
   "id": "1170bae2",
   "metadata": {},
   "outputs": [],
   "source": [
    "train_data = new_arabic_preprocessing(train_data)\n",
    "val_data   = new_arabic_preprocessing(val_data)\n",
    "test_data  = new_arabic_preprocessing(test_data)\n",
    "\n",
    "tokenCounter = Counter([token for sublist in train_data[\"processed_arabic_instruction\"]  for token in sublist])\n",
    "\n",
    "to_be_ambiguated = train_data[train_data[\"processed_arabic_instruction\"].apply(lambda x: any(tokenCounter.get(y, 0) <= 1 for y in x))]\n",
    "\n",
    "# Replacing Very Rare words with UNK to improve generalization and decrease overfitting on noisy texts\n",
    "to_be_ambiguated.loc[:,\"arabic\"] = to_be_ambiguated[\"arabic\"].apply(lambda x: [y if tokenCounter.get(y) > 3 else \"<UNK>\" for y in x])\n",
    "\n",
    "# because of the Segmenter we found \"ال\" / \"ة\" are the most frequent\n",
    "# we will ambiguate some examples randomly and replace them with UNK\n",
    "to_be_ambiguated_2 = train_data[train_data[\"processed_arabic_instruction\"].apply(lambda x: any(tokenCounter.get(y, 0) <= 1 for y in x))]\n",
    "\n",
    "# Encouraging robustness by making the model deal more with UNK tokens\n",
    "to_be_ambiguated_2[\"arabic\"] = to_be_ambiguated_2[\"arabic\"].apply(lambda x: [\"<UNK>\" if y == \"ال+\" or y == \"ة+\" else y for y in x])\n",
    "train_data = pd.concat([train_data,to_be_ambiguated,to_be_ambiguated_2])\n",
    "\n",
    "train_data.reset_index(drop=True,inplace=True)"
   ]
  },
  {
   "cell_type": "code",
   "execution_count": null,
   "id": "221c8bda",
   "metadata": {},
   "outputs": [
    {
     "data": {
      "text/plain": [
       "1857"
      ]
     },
     "execution_count": 31,
     "metadata": {},
     "output_type": "execute_result"
    }
   ],
   "source": [
    "arabic_tokens = set(tokenCounter.keys())"
   ]
  },
  {
   "cell_type": "markdown",
   "id": "fdc04ee4",
   "metadata": {},
   "source": [
    "# English Preprocessing"
   ]
  },
  {
   "cell_type": "code",
   "execution_count": null,
   "id": "788a9030",
   "metadata": {},
   "outputs": [],
   "source": [
    "def English_preprocessing(data):\n",
    "    data[\"processed_eng_instruction\"] = data[\"instruction\"].str.lower()\n",
    "    data[\"processed_eng_instruction\"] = data[\"processed_eng_instruction\"].map(word_tokenize)\n",
    "\n",
    "    data[\"processed_eng_instruction\"] = data[\"processed_eng_instruction\"].apply(lambda x: [\"<s>\"]+ x + [\"</s>\"])\n",
    "\n",
    "    return data\n",
    "\n",
    "train_data = English_preprocessing(train_data)\n",
    "val_data = English_preprocessing(val_data)\n",
    "test_data = English_preprocessing(test_data)\n",
    "\n",
    "english_tokens = set()\n",
    "all_en_sequences = list(train_data[\"processed_eng_instruction\"].map(set))\n",
    "\n",
    "for sequence in all_en_sequences:\n",
    "    english_tokens.update(sequence)"
   ]
  },
  {
   "cell_type": "markdown",
   "id": "d4801199",
   "metadata": {},
   "source": [
    "# Save Tokens, Preprocessed Sequences for Next stage"
   ]
  },
  {
   "cell_type": "code",
   "execution_count": null,
   "id": "638b511a",
   "metadata": {},
   "outputs": [],
   "source": [
    "def write_data_pkl_file(data, name):\n",
    "    preprocessed_data = (\n",
    "    data[[\"arabic_instruction\", \"processed_eng_instruction\", \"pos_tag\"]]\n",
    "    .rename(columns={\n",
    "        \"arabic_instruction\": \"arabic\",\n",
    "        \"processed_eng_instruction\": \"english\"\n",
    "    })\n",
    ")\n",
    "    # writing it in pickle format, because saving it as csv will lead\n",
    "    # the list of tokens turn into String\n",
    "    preprocessed_data.to_pickle(f\"./{name}.pkl\")\n",
    "\n",
    "write_data_pkl_file(train_data, \"preprocessed_train_data\")\n",
    "write_data_pkl_file(val_data, \"preprocessed_val_data\")\n",
    "write_data_pkl_file(test_data, \"preprocessed_test_data\")\n",
    "\n",
    "with open(\"arabic_tokens.json\", \"w\", encoding=\"utf-8\") as f:\n",
    "    json.dump(list(arabic_tokens), f, ensure_ascii=False, indent=2)\n",
    "        \n",
    "with open(\"english_tokens.json\", \"w\", encoding=\"utf-8\") as f:\n",
    "    json.dump(list(english_tokens), f, ensure_ascii=False, indent=2)\n"
   ]
  }
 ],
 "metadata": {
  "kernelspec": {
   "display_name": "Python 3",
   "language": "python",
   "name": "python3"
  },
  "language_info": {
   "codemirror_mode": {
    "name": "ipython",
    "version": 3
   },
   "file_extension": ".py",
   "mimetype": "text/x-python",
   "name": "python",
   "nbconvert_exporter": "python",
   "pygments_lexer": "ipython3",
   "version": "3.12.0"
  }
 },
 "nbformat": 4,
 "nbformat_minor": 5
}
